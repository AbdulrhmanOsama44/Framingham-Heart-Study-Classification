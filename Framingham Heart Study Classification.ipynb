{
 "cells": [
  {
   "cell_type": "markdown",
   "id": "a8b87378-ed41-46cd-8759-cf7b389d53d6",
   "metadata": {},
   "source": [
    "# Import Libraries"
   ]
  },
  {
   "cell_type": "code",
   "execution_count": 1,
   "id": "7f1dde72-f2e6-4431-a079-7c3853717314",
   "metadata": {},
   "outputs": [],
   "source": [
    "import pandas as pd # library for open files\n",
    "import numpy as np # Library for mathematical operations\n",
    "import matplotlib.pyplot as plt # Library for graph\n",
    "import seaborn as sns # Library for graph\n",
    "\n",
    "from sklearn.preprocessing import StandardScaler # for scaling data\n",
    "from sklearn.model_selection import train_test_split # to split data for training & testing\n",
    "from sklearn.tree import DecisionTreeClassifier # classification with decision tree\n",
    "from sklearn.metrics import accuracy_score # to get the accuracy score"
   ]
  },
  {
   "cell_type": "markdown",
   "id": "bd11c145-22a6-4c75-857c-ce883fed9cb6",
   "metadata": {},
   "source": [
    "# Load Data"
   ]
  },
  {
   "cell_type": "code",
   "execution_count": 2,
   "id": "188d3c12-cd22-4aea-b027-434318e975a0",
   "metadata": {},
   "outputs": [
    {
     "name": "stdout",
     "output_type": "stream",
     "text": [
      "Data Frame:\n"
     ]
    },
    {
     "data": {
      "text/html": [
       "<div>\n",
       "<style scoped>\n",
       "    .dataframe tbody tr th:only-of-type {\n",
       "        vertical-align: middle;\n",
       "    }\n",
       "\n",
       "    .dataframe tbody tr th {\n",
       "        vertical-align: top;\n",
       "    }\n",
       "\n",
       "    .dataframe thead th {\n",
       "        text-align: right;\n",
       "    }\n",
       "</style>\n",
       "<table border=\"1\" class=\"dataframe\">\n",
       "  <thead>\n",
       "    <tr style=\"text-align: right;\">\n",
       "      <th></th>\n",
       "      <th>0</th>\n",
       "      <th>1</th>\n",
       "      <th>2</th>\n",
       "      <th>3</th>\n",
       "      <th>4</th>\n",
       "      <th>5</th>\n",
       "      <th>6</th>\n",
       "      <th>7</th>\n",
       "      <th>8</th>\n",
       "      <th>9</th>\n",
       "    </tr>\n",
       "  </thead>\n",
       "  <tbody>\n",
       "    <tr>\n",
       "      <th>male</th>\n",
       "      <td>1.00</td>\n",
       "      <td>0.00</td>\n",
       "      <td>1.00</td>\n",
       "      <td>0.00</td>\n",
       "      <td>0.0</td>\n",
       "      <td>0.0</td>\n",
       "      <td>0.00</td>\n",
       "      <td>0.00</td>\n",
       "      <td>1.00</td>\n",
       "      <td>1.00</td>\n",
       "    </tr>\n",
       "    <tr>\n",
       "      <th>age</th>\n",
       "      <td>39.00</td>\n",
       "      <td>46.00</td>\n",
       "      <td>48.00</td>\n",
       "      <td>61.00</td>\n",
       "      <td>46.0</td>\n",
       "      <td>43.0</td>\n",
       "      <td>63.00</td>\n",
       "      <td>45.00</td>\n",
       "      <td>52.00</td>\n",
       "      <td>43.00</td>\n",
       "    </tr>\n",
       "    <tr>\n",
       "      <th>education</th>\n",
       "      <td>4.00</td>\n",
       "      <td>2.00</td>\n",
       "      <td>1.00</td>\n",
       "      <td>3.00</td>\n",
       "      <td>3.0</td>\n",
       "      <td>2.0</td>\n",
       "      <td>1.00</td>\n",
       "      <td>2.00</td>\n",
       "      <td>1.00</td>\n",
       "      <td>1.00</td>\n",
       "    </tr>\n",
       "    <tr>\n",
       "      <th>currentSmoker</th>\n",
       "      <td>0.00</td>\n",
       "      <td>0.00</td>\n",
       "      <td>1.00</td>\n",
       "      <td>1.00</td>\n",
       "      <td>1.0</td>\n",
       "      <td>0.0</td>\n",
       "      <td>0.00</td>\n",
       "      <td>1.00</td>\n",
       "      <td>0.00</td>\n",
       "      <td>1.00</td>\n",
       "    </tr>\n",
       "    <tr>\n",
       "      <th>cigsPerDay</th>\n",
       "      <td>0.00</td>\n",
       "      <td>0.00</td>\n",
       "      <td>20.00</td>\n",
       "      <td>30.00</td>\n",
       "      <td>23.0</td>\n",
       "      <td>0.0</td>\n",
       "      <td>0.00</td>\n",
       "      <td>20.00</td>\n",
       "      <td>0.00</td>\n",
       "      <td>30.00</td>\n",
       "    </tr>\n",
       "    <tr>\n",
       "      <th>BPMeds</th>\n",
       "      <td>0.00</td>\n",
       "      <td>0.00</td>\n",
       "      <td>0.00</td>\n",
       "      <td>0.00</td>\n",
       "      <td>0.0</td>\n",
       "      <td>0.0</td>\n",
       "      <td>0.00</td>\n",
       "      <td>0.00</td>\n",
       "      <td>0.00</td>\n",
       "      <td>0.00</td>\n",
       "    </tr>\n",
       "    <tr>\n",
       "      <th>prevalentStroke</th>\n",
       "      <td>0.00</td>\n",
       "      <td>0.00</td>\n",
       "      <td>0.00</td>\n",
       "      <td>0.00</td>\n",
       "      <td>0.0</td>\n",
       "      <td>0.0</td>\n",
       "      <td>0.00</td>\n",
       "      <td>0.00</td>\n",
       "      <td>0.00</td>\n",
       "      <td>0.00</td>\n",
       "    </tr>\n",
       "    <tr>\n",
       "      <th>prevalentHyp</th>\n",
       "      <td>0.00</td>\n",
       "      <td>0.00</td>\n",
       "      <td>0.00</td>\n",
       "      <td>1.00</td>\n",
       "      <td>0.0</td>\n",
       "      <td>1.0</td>\n",
       "      <td>0.00</td>\n",
       "      <td>0.00</td>\n",
       "      <td>1.00</td>\n",
       "      <td>1.00</td>\n",
       "    </tr>\n",
       "    <tr>\n",
       "      <th>diabetes</th>\n",
       "      <td>0.00</td>\n",
       "      <td>0.00</td>\n",
       "      <td>0.00</td>\n",
       "      <td>0.00</td>\n",
       "      <td>0.0</td>\n",
       "      <td>0.0</td>\n",
       "      <td>0.00</td>\n",
       "      <td>0.00</td>\n",
       "      <td>0.00</td>\n",
       "      <td>0.00</td>\n",
       "    </tr>\n",
       "    <tr>\n",
       "      <th>totChol</th>\n",
       "      <td>195.00</td>\n",
       "      <td>250.00</td>\n",
       "      <td>245.00</td>\n",
       "      <td>225.00</td>\n",
       "      <td>285.0</td>\n",
       "      <td>228.0</td>\n",
       "      <td>205.00</td>\n",
       "      <td>313.00</td>\n",
       "      <td>260.00</td>\n",
       "      <td>225.00</td>\n",
       "    </tr>\n",
       "    <tr>\n",
       "      <th>sysBP</th>\n",
       "      <td>106.00</td>\n",
       "      <td>121.00</td>\n",
       "      <td>127.50</td>\n",
       "      <td>150.00</td>\n",
       "      <td>130.0</td>\n",
       "      <td>180.0</td>\n",
       "      <td>138.00</td>\n",
       "      <td>100.00</td>\n",
       "      <td>141.50</td>\n",
       "      <td>162.00</td>\n",
       "    </tr>\n",
       "    <tr>\n",
       "      <th>diaBP</th>\n",
       "      <td>70.00</td>\n",
       "      <td>81.00</td>\n",
       "      <td>80.00</td>\n",
       "      <td>95.00</td>\n",
       "      <td>84.0</td>\n",
       "      <td>110.0</td>\n",
       "      <td>71.00</td>\n",
       "      <td>71.00</td>\n",
       "      <td>89.00</td>\n",
       "      <td>107.00</td>\n",
       "    </tr>\n",
       "    <tr>\n",
       "      <th>BMI</th>\n",
       "      <td>26.97</td>\n",
       "      <td>28.73</td>\n",
       "      <td>25.34</td>\n",
       "      <td>28.58</td>\n",
       "      <td>23.1</td>\n",
       "      <td>30.3</td>\n",
       "      <td>33.11</td>\n",
       "      <td>21.68</td>\n",
       "      <td>26.36</td>\n",
       "      <td>23.61</td>\n",
       "    </tr>\n",
       "    <tr>\n",
       "      <th>heartRate</th>\n",
       "      <td>80.00</td>\n",
       "      <td>95.00</td>\n",
       "      <td>75.00</td>\n",
       "      <td>65.00</td>\n",
       "      <td>85.0</td>\n",
       "      <td>77.0</td>\n",
       "      <td>60.00</td>\n",
       "      <td>79.00</td>\n",
       "      <td>76.00</td>\n",
       "      <td>93.00</td>\n",
       "    </tr>\n",
       "    <tr>\n",
       "      <th>glucose</th>\n",
       "      <td>77.00</td>\n",
       "      <td>76.00</td>\n",
       "      <td>70.00</td>\n",
       "      <td>103.00</td>\n",
       "      <td>85.0</td>\n",
       "      <td>99.0</td>\n",
       "      <td>85.00</td>\n",
       "      <td>78.00</td>\n",
       "      <td>79.00</td>\n",
       "      <td>88.00</td>\n",
       "    </tr>\n",
       "    <tr>\n",
       "      <th>TenYearCHD</th>\n",
       "      <td>0.00</td>\n",
       "      <td>0.00</td>\n",
       "      <td>0.00</td>\n",
       "      <td>1.00</td>\n",
       "      <td>0.0</td>\n",
       "      <td>0.0</td>\n",
       "      <td>1.00</td>\n",
       "      <td>0.00</td>\n",
       "      <td>0.00</td>\n",
       "      <td>0.00</td>\n",
       "    </tr>\n",
       "  </tbody>\n",
       "</table>\n",
       "</div>"
      ],
      "text/plain": [
       "                      0       1       2       3      4      5       6       7  \\\n",
       "male               1.00    0.00    1.00    0.00    0.0    0.0    0.00    0.00   \n",
       "age               39.00   46.00   48.00   61.00   46.0   43.0   63.00   45.00   \n",
       "education          4.00    2.00    1.00    3.00    3.0    2.0    1.00    2.00   \n",
       "currentSmoker      0.00    0.00    1.00    1.00    1.0    0.0    0.00    1.00   \n",
       "cigsPerDay         0.00    0.00   20.00   30.00   23.0    0.0    0.00   20.00   \n",
       "BPMeds             0.00    0.00    0.00    0.00    0.0    0.0    0.00    0.00   \n",
       "prevalentStroke    0.00    0.00    0.00    0.00    0.0    0.0    0.00    0.00   \n",
       "prevalentHyp       0.00    0.00    0.00    1.00    0.0    1.0    0.00    0.00   \n",
       "diabetes           0.00    0.00    0.00    0.00    0.0    0.0    0.00    0.00   \n",
       "totChol          195.00  250.00  245.00  225.00  285.0  228.0  205.00  313.00   \n",
       "sysBP            106.00  121.00  127.50  150.00  130.0  180.0  138.00  100.00   \n",
       "diaBP             70.00   81.00   80.00   95.00   84.0  110.0   71.00   71.00   \n",
       "BMI               26.97   28.73   25.34   28.58   23.1   30.3   33.11   21.68   \n",
       "heartRate         80.00   95.00   75.00   65.00   85.0   77.0   60.00   79.00   \n",
       "glucose           77.00   76.00   70.00  103.00   85.0   99.0   85.00   78.00   \n",
       "TenYearCHD         0.00    0.00    0.00    1.00    0.0    0.0    1.00    0.00   \n",
       "\n",
       "                      8       9  \n",
       "male               1.00    1.00  \n",
       "age               52.00   43.00  \n",
       "education          1.00    1.00  \n",
       "currentSmoker      0.00    1.00  \n",
       "cigsPerDay         0.00   30.00  \n",
       "BPMeds             0.00    0.00  \n",
       "prevalentStroke    0.00    0.00  \n",
       "prevalentHyp       1.00    1.00  \n",
       "diabetes           0.00    0.00  \n",
       "totChol          260.00  225.00  \n",
       "sysBP            141.50  162.00  \n",
       "diaBP             89.00  107.00  \n",
       "BMI               26.36   23.61  \n",
       "heartRate         76.00   93.00  \n",
       "glucose           79.00   88.00  \n",
       "TenYearCHD         0.00    0.00  "
      ]
     },
     "execution_count": 2,
     "metadata": {},
     "output_type": "execute_result"
    }
   ],
   "source": [
    "#                                           Path                                             File Name  Extension\n",
    "path = r'D:\\Abdulrhman Osama\\Machine Learning Projects\\Framingham Heart Study Classification\\framingham.csv'\n",
    "\n",
    "df = pd.read_csv(path)\n",
    "\n",
    "print('Data Frame:')\n",
    "df.head(10).T # show the first ten rows from the data"
   ]
  },
  {
   "cell_type": "code",
   "execution_count": 3,
   "id": "7c61fa10-19e5-44d3-a394-0f42ac1dcdea",
   "metadata": {},
   "outputs": [
    {
     "data": {
      "text/plain": [
       "(4238, 16)"
      ]
     },
     "execution_count": 3,
     "metadata": {},
     "output_type": "execute_result"
    }
   ],
   "source": [
    "df.shape # Show the number of rows & columns"
   ]
  },
  {
   "cell_type": "markdown",
   "id": "7c54aec7-4483-4a8f-8f28-a444be7fefdc",
   "metadata": {},
   "source": [
    "# Cleaning Data"
   ]
  },
  {
   "cell_type": "code",
   "execution_count": 4,
   "id": "954a5ae5-7644-4cea-b846-ba1bc08d8e36",
   "metadata": {},
   "outputs": [
    {
     "data": {
      "text/plain": [
       "male                 0\n",
       "age                  0\n",
       "education          105\n",
       "currentSmoker        0\n",
       "cigsPerDay          29\n",
       "BPMeds              53\n",
       "prevalentStroke      0\n",
       "prevalentHyp         0\n",
       "diabetes             0\n",
       "totChol             50\n",
       "sysBP                0\n",
       "diaBP                0\n",
       "BMI                 19\n",
       "heartRate            1\n",
       "glucose            388\n",
       "TenYearCHD           0\n",
       "dtype: int64"
      ]
     },
     "execution_count": 4,
     "metadata": {},
     "output_type": "execute_result"
    }
   ],
   "source": [
    "df.isnull().sum() # Check if there any empty slots in the data or any nulls or not"
   ]
  },
  {
   "cell_type": "code",
   "execution_count": 5,
   "id": "72bacf10-8e4a-48ef-ad60-4c233dbbec98",
   "metadata": {},
   "outputs": [],
   "source": [
    "new_df = df.dropna(axis = 0, how = 'any') # Drop all the rows if there any column of that row has null value"
   ]
  },
  {
   "cell_type": "code",
   "execution_count": 6,
   "id": "410d5784-af16-40bc-8eba-ad6670abfa60",
   "metadata": {},
   "outputs": [
    {
     "data": {
      "text/html": [
       "<div>\n",
       "<style scoped>\n",
       "    .dataframe tbody tr th:only-of-type {\n",
       "        vertical-align: middle;\n",
       "    }\n",
       "\n",
       "    .dataframe tbody tr th {\n",
       "        vertical-align: top;\n",
       "    }\n",
       "\n",
       "    .dataframe thead th {\n",
       "        text-align: right;\n",
       "    }\n",
       "</style>\n",
       "<table border=\"1\" class=\"dataframe\">\n",
       "  <thead>\n",
       "    <tr style=\"text-align: right;\">\n",
       "      <th></th>\n",
       "      <th>0</th>\n",
       "      <th>1</th>\n",
       "      <th>2</th>\n",
       "      <th>3</th>\n",
       "      <th>4</th>\n",
       "      <th>5</th>\n",
       "      <th>6</th>\n",
       "      <th>7</th>\n",
       "      <th>8</th>\n",
       "      <th>9</th>\n",
       "    </tr>\n",
       "  </thead>\n",
       "  <tbody>\n",
       "    <tr>\n",
       "      <th>male</th>\n",
       "      <td>1.00</td>\n",
       "      <td>0.00</td>\n",
       "      <td>1.00</td>\n",
       "      <td>0.00</td>\n",
       "      <td>0.0</td>\n",
       "      <td>0.0</td>\n",
       "      <td>0.00</td>\n",
       "      <td>0.00</td>\n",
       "      <td>1.00</td>\n",
       "      <td>1.00</td>\n",
       "    </tr>\n",
       "    <tr>\n",
       "      <th>age</th>\n",
       "      <td>39.00</td>\n",
       "      <td>46.00</td>\n",
       "      <td>48.00</td>\n",
       "      <td>61.00</td>\n",
       "      <td>46.0</td>\n",
       "      <td>43.0</td>\n",
       "      <td>63.00</td>\n",
       "      <td>45.00</td>\n",
       "      <td>52.00</td>\n",
       "      <td>43.00</td>\n",
       "    </tr>\n",
       "    <tr>\n",
       "      <th>education</th>\n",
       "      <td>4.00</td>\n",
       "      <td>2.00</td>\n",
       "      <td>1.00</td>\n",
       "      <td>3.00</td>\n",
       "      <td>3.0</td>\n",
       "      <td>2.0</td>\n",
       "      <td>1.00</td>\n",
       "      <td>2.00</td>\n",
       "      <td>1.00</td>\n",
       "      <td>1.00</td>\n",
       "    </tr>\n",
       "    <tr>\n",
       "      <th>currentSmoker</th>\n",
       "      <td>0.00</td>\n",
       "      <td>0.00</td>\n",
       "      <td>1.00</td>\n",
       "      <td>1.00</td>\n",
       "      <td>1.0</td>\n",
       "      <td>0.0</td>\n",
       "      <td>0.00</td>\n",
       "      <td>1.00</td>\n",
       "      <td>0.00</td>\n",
       "      <td>1.00</td>\n",
       "    </tr>\n",
       "    <tr>\n",
       "      <th>cigsPerDay</th>\n",
       "      <td>0.00</td>\n",
       "      <td>0.00</td>\n",
       "      <td>20.00</td>\n",
       "      <td>30.00</td>\n",
       "      <td>23.0</td>\n",
       "      <td>0.0</td>\n",
       "      <td>0.00</td>\n",
       "      <td>20.00</td>\n",
       "      <td>0.00</td>\n",
       "      <td>30.00</td>\n",
       "    </tr>\n",
       "    <tr>\n",
       "      <th>BPMeds</th>\n",
       "      <td>0.00</td>\n",
       "      <td>0.00</td>\n",
       "      <td>0.00</td>\n",
       "      <td>0.00</td>\n",
       "      <td>0.0</td>\n",
       "      <td>0.0</td>\n",
       "      <td>0.00</td>\n",
       "      <td>0.00</td>\n",
       "      <td>0.00</td>\n",
       "      <td>0.00</td>\n",
       "    </tr>\n",
       "    <tr>\n",
       "      <th>prevalentStroke</th>\n",
       "      <td>0.00</td>\n",
       "      <td>0.00</td>\n",
       "      <td>0.00</td>\n",
       "      <td>0.00</td>\n",
       "      <td>0.0</td>\n",
       "      <td>0.0</td>\n",
       "      <td>0.00</td>\n",
       "      <td>0.00</td>\n",
       "      <td>0.00</td>\n",
       "      <td>0.00</td>\n",
       "    </tr>\n",
       "    <tr>\n",
       "      <th>prevalentHyp</th>\n",
       "      <td>0.00</td>\n",
       "      <td>0.00</td>\n",
       "      <td>0.00</td>\n",
       "      <td>1.00</td>\n",
       "      <td>0.0</td>\n",
       "      <td>1.0</td>\n",
       "      <td>0.00</td>\n",
       "      <td>0.00</td>\n",
       "      <td>1.00</td>\n",
       "      <td>1.00</td>\n",
       "    </tr>\n",
       "    <tr>\n",
       "      <th>diabetes</th>\n",
       "      <td>0.00</td>\n",
       "      <td>0.00</td>\n",
       "      <td>0.00</td>\n",
       "      <td>0.00</td>\n",
       "      <td>0.0</td>\n",
       "      <td>0.0</td>\n",
       "      <td>0.00</td>\n",
       "      <td>0.00</td>\n",
       "      <td>0.00</td>\n",
       "      <td>0.00</td>\n",
       "    </tr>\n",
       "    <tr>\n",
       "      <th>totChol</th>\n",
       "      <td>195.00</td>\n",
       "      <td>250.00</td>\n",
       "      <td>245.00</td>\n",
       "      <td>225.00</td>\n",
       "      <td>285.0</td>\n",
       "      <td>228.0</td>\n",
       "      <td>205.00</td>\n",
       "      <td>313.00</td>\n",
       "      <td>260.00</td>\n",
       "      <td>225.00</td>\n",
       "    </tr>\n",
       "    <tr>\n",
       "      <th>sysBP</th>\n",
       "      <td>106.00</td>\n",
       "      <td>121.00</td>\n",
       "      <td>127.50</td>\n",
       "      <td>150.00</td>\n",
       "      <td>130.0</td>\n",
       "      <td>180.0</td>\n",
       "      <td>138.00</td>\n",
       "      <td>100.00</td>\n",
       "      <td>141.50</td>\n",
       "      <td>162.00</td>\n",
       "    </tr>\n",
       "    <tr>\n",
       "      <th>diaBP</th>\n",
       "      <td>70.00</td>\n",
       "      <td>81.00</td>\n",
       "      <td>80.00</td>\n",
       "      <td>95.00</td>\n",
       "      <td>84.0</td>\n",
       "      <td>110.0</td>\n",
       "      <td>71.00</td>\n",
       "      <td>71.00</td>\n",
       "      <td>89.00</td>\n",
       "      <td>107.00</td>\n",
       "    </tr>\n",
       "    <tr>\n",
       "      <th>BMI</th>\n",
       "      <td>26.97</td>\n",
       "      <td>28.73</td>\n",
       "      <td>25.34</td>\n",
       "      <td>28.58</td>\n",
       "      <td>23.1</td>\n",
       "      <td>30.3</td>\n",
       "      <td>33.11</td>\n",
       "      <td>21.68</td>\n",
       "      <td>26.36</td>\n",
       "      <td>23.61</td>\n",
       "    </tr>\n",
       "    <tr>\n",
       "      <th>heartRate</th>\n",
       "      <td>80.00</td>\n",
       "      <td>95.00</td>\n",
       "      <td>75.00</td>\n",
       "      <td>65.00</td>\n",
       "      <td>85.0</td>\n",
       "      <td>77.0</td>\n",
       "      <td>60.00</td>\n",
       "      <td>79.00</td>\n",
       "      <td>76.00</td>\n",
       "      <td>93.00</td>\n",
       "    </tr>\n",
       "    <tr>\n",
       "      <th>glucose</th>\n",
       "      <td>77.00</td>\n",
       "      <td>76.00</td>\n",
       "      <td>70.00</td>\n",
       "      <td>103.00</td>\n",
       "      <td>85.0</td>\n",
       "      <td>99.0</td>\n",
       "      <td>85.00</td>\n",
       "      <td>78.00</td>\n",
       "      <td>79.00</td>\n",
       "      <td>88.00</td>\n",
       "    </tr>\n",
       "    <tr>\n",
       "      <th>TenYearCHD</th>\n",
       "      <td>0.00</td>\n",
       "      <td>0.00</td>\n",
       "      <td>0.00</td>\n",
       "      <td>1.00</td>\n",
       "      <td>0.0</td>\n",
       "      <td>0.0</td>\n",
       "      <td>1.00</td>\n",
       "      <td>0.00</td>\n",
       "      <td>0.00</td>\n",
       "      <td>0.00</td>\n",
       "    </tr>\n",
       "  </tbody>\n",
       "</table>\n",
       "</div>"
      ],
      "text/plain": [
       "                      0       1       2       3      4      5       6       7  \\\n",
       "male               1.00    0.00    1.00    0.00    0.0    0.0    0.00    0.00   \n",
       "age               39.00   46.00   48.00   61.00   46.0   43.0   63.00   45.00   \n",
       "education          4.00    2.00    1.00    3.00    3.0    2.0    1.00    2.00   \n",
       "currentSmoker      0.00    0.00    1.00    1.00    1.0    0.0    0.00    1.00   \n",
       "cigsPerDay         0.00    0.00   20.00   30.00   23.0    0.0    0.00   20.00   \n",
       "BPMeds             0.00    0.00    0.00    0.00    0.0    0.0    0.00    0.00   \n",
       "prevalentStroke    0.00    0.00    0.00    0.00    0.0    0.0    0.00    0.00   \n",
       "prevalentHyp       0.00    0.00    0.00    1.00    0.0    1.0    0.00    0.00   \n",
       "diabetes           0.00    0.00    0.00    0.00    0.0    0.0    0.00    0.00   \n",
       "totChol          195.00  250.00  245.00  225.00  285.0  228.0  205.00  313.00   \n",
       "sysBP            106.00  121.00  127.50  150.00  130.0  180.0  138.00  100.00   \n",
       "diaBP             70.00   81.00   80.00   95.00   84.0  110.0   71.00   71.00   \n",
       "BMI               26.97   28.73   25.34   28.58   23.1   30.3   33.11   21.68   \n",
       "heartRate         80.00   95.00   75.00   65.00   85.0   77.0   60.00   79.00   \n",
       "glucose           77.00   76.00   70.00  103.00   85.0   99.0   85.00   78.00   \n",
       "TenYearCHD         0.00    0.00    0.00    1.00    0.0    0.0    1.00    0.00   \n",
       "\n",
       "                      8       9  \n",
       "male               1.00    1.00  \n",
       "age               52.00   43.00  \n",
       "education          1.00    1.00  \n",
       "currentSmoker      0.00    1.00  \n",
       "cigsPerDay         0.00   30.00  \n",
       "BPMeds             0.00    0.00  \n",
       "prevalentStroke    0.00    0.00  \n",
       "prevalentHyp       1.00    1.00  \n",
       "diabetes           0.00    0.00  \n",
       "totChol          260.00  225.00  \n",
       "sysBP            141.50  162.00  \n",
       "diaBP             89.00  107.00  \n",
       "BMI               26.36   23.61  \n",
       "heartRate         76.00   93.00  \n",
       "glucose           79.00   88.00  \n",
       "TenYearCHD         0.00    0.00  "
      ]
     },
     "execution_count": 6,
     "metadata": {},
     "output_type": "execute_result"
    }
   ],
   "source": [
    "new_df.head(10).T # show the first ten rows from the data"
   ]
  },
  {
   "cell_type": "code",
   "execution_count": 7,
   "id": "cb548a90-461d-41ff-9312-fb61a6e96b95",
   "metadata": {},
   "outputs": [
    {
     "data": {
      "text/plain": [
       "male               0\n",
       "age                0\n",
       "education          0\n",
       "currentSmoker      0\n",
       "cigsPerDay         0\n",
       "BPMeds             0\n",
       "prevalentStroke    0\n",
       "prevalentHyp       0\n",
       "diabetes           0\n",
       "totChol            0\n",
       "sysBP              0\n",
       "diaBP              0\n",
       "BMI                0\n",
       "heartRate          0\n",
       "glucose            0\n",
       "TenYearCHD         0\n",
       "dtype: int64"
      ]
     },
     "execution_count": 7,
     "metadata": {},
     "output_type": "execute_result"
    }
   ],
   "source": [
    "new_df.isnull().sum() # Check if there any empty slots in the data or any nulls or not"
   ]
  },
  {
   "cell_type": "code",
   "execution_count": 8,
   "id": "1e9d8577-c2a5-47ad-aac0-86a086e3c1a8",
   "metadata": {},
   "outputs": [
    {
     "data": {
      "text/plain": [
       "(3656, 16)"
      ]
     },
     "execution_count": 8,
     "metadata": {},
     "output_type": "execute_result"
    }
   ],
   "source": [
    "new_df.shape # Show the number of rows & columns"
   ]
  },
  {
   "cell_type": "code",
   "execution_count": 9,
   "id": "99a8e1f2-33b2-49fb-87c0-b69a0d98490d",
   "metadata": {},
   "outputs": [
    {
     "data": {
      "text/html": [
       "<div>\n",
       "<style scoped>\n",
       "    .dataframe tbody tr th:only-of-type {\n",
       "        vertical-align: middle;\n",
       "    }\n",
       "\n",
       "    .dataframe tbody tr th {\n",
       "        vertical-align: top;\n",
       "    }\n",
       "\n",
       "    .dataframe thead th {\n",
       "        text-align: right;\n",
       "    }\n",
       "</style>\n",
       "<table border=\"1\" class=\"dataframe\">\n",
       "  <thead>\n",
       "    <tr style=\"text-align: right;\">\n",
       "      <th></th>\n",
       "      <th>count</th>\n",
       "      <th>mean</th>\n",
       "      <th>std</th>\n",
       "      <th>min</th>\n",
       "      <th>25%</th>\n",
       "      <th>50%</th>\n",
       "      <th>75%</th>\n",
       "      <th>max</th>\n",
       "    </tr>\n",
       "  </thead>\n",
       "  <tbody>\n",
       "    <tr>\n",
       "      <th>male</th>\n",
       "      <td>3656.0</td>\n",
       "      <td>0.443654</td>\n",
       "      <td>0.496883</td>\n",
       "      <td>0.00</td>\n",
       "      <td>0.00</td>\n",
       "      <td>0.00</td>\n",
       "      <td>1.00</td>\n",
       "      <td>1.0</td>\n",
       "    </tr>\n",
       "    <tr>\n",
       "      <th>age</th>\n",
       "      <td>3656.0</td>\n",
       "      <td>49.557440</td>\n",
       "      <td>8.561133</td>\n",
       "      <td>32.00</td>\n",
       "      <td>42.00</td>\n",
       "      <td>49.00</td>\n",
       "      <td>56.00</td>\n",
       "      <td>70.0</td>\n",
       "    </tr>\n",
       "    <tr>\n",
       "      <th>education</th>\n",
       "      <td>3656.0</td>\n",
       "      <td>1.979759</td>\n",
       "      <td>1.022657</td>\n",
       "      <td>1.00</td>\n",
       "      <td>1.00</td>\n",
       "      <td>2.00</td>\n",
       "      <td>3.00</td>\n",
       "      <td>4.0</td>\n",
       "    </tr>\n",
       "    <tr>\n",
       "      <th>currentSmoker</th>\n",
       "      <td>3656.0</td>\n",
       "      <td>0.489059</td>\n",
       "      <td>0.499949</td>\n",
       "      <td>0.00</td>\n",
       "      <td>0.00</td>\n",
       "      <td>0.00</td>\n",
       "      <td>1.00</td>\n",
       "      <td>1.0</td>\n",
       "    </tr>\n",
       "    <tr>\n",
       "      <th>cigsPerDay</th>\n",
       "      <td>3656.0</td>\n",
       "      <td>9.022155</td>\n",
       "      <td>11.918869</td>\n",
       "      <td>0.00</td>\n",
       "      <td>0.00</td>\n",
       "      <td>0.00</td>\n",
       "      <td>20.00</td>\n",
       "      <td>70.0</td>\n",
       "    </tr>\n",
       "    <tr>\n",
       "      <th>BPMeds</th>\n",
       "      <td>3656.0</td>\n",
       "      <td>0.030361</td>\n",
       "      <td>0.171602</td>\n",
       "      <td>0.00</td>\n",
       "      <td>0.00</td>\n",
       "      <td>0.00</td>\n",
       "      <td>0.00</td>\n",
       "      <td>1.0</td>\n",
       "    </tr>\n",
       "    <tr>\n",
       "      <th>prevalentStroke</th>\n",
       "      <td>3656.0</td>\n",
       "      <td>0.005744</td>\n",
       "      <td>0.075581</td>\n",
       "      <td>0.00</td>\n",
       "      <td>0.00</td>\n",
       "      <td>0.00</td>\n",
       "      <td>0.00</td>\n",
       "      <td>1.0</td>\n",
       "    </tr>\n",
       "    <tr>\n",
       "      <th>prevalentHyp</th>\n",
       "      <td>3656.0</td>\n",
       "      <td>0.311543</td>\n",
       "      <td>0.463187</td>\n",
       "      <td>0.00</td>\n",
       "      <td>0.00</td>\n",
       "      <td>0.00</td>\n",
       "      <td>1.00</td>\n",
       "      <td>1.0</td>\n",
       "    </tr>\n",
       "    <tr>\n",
       "      <th>diabetes</th>\n",
       "      <td>3656.0</td>\n",
       "      <td>0.027079</td>\n",
       "      <td>0.162335</td>\n",
       "      <td>0.00</td>\n",
       "      <td>0.00</td>\n",
       "      <td>0.00</td>\n",
       "      <td>0.00</td>\n",
       "      <td>1.0</td>\n",
       "    </tr>\n",
       "    <tr>\n",
       "      <th>totChol</th>\n",
       "      <td>3656.0</td>\n",
       "      <td>236.873085</td>\n",
       "      <td>44.096223</td>\n",
       "      <td>113.00</td>\n",
       "      <td>206.00</td>\n",
       "      <td>234.00</td>\n",
       "      <td>263.25</td>\n",
       "      <td>600.0</td>\n",
       "    </tr>\n",
       "    <tr>\n",
       "      <th>sysBP</th>\n",
       "      <td>3656.0</td>\n",
       "      <td>132.368025</td>\n",
       "      <td>22.092444</td>\n",
       "      <td>83.50</td>\n",
       "      <td>117.00</td>\n",
       "      <td>128.00</td>\n",
       "      <td>144.00</td>\n",
       "      <td>295.0</td>\n",
       "    </tr>\n",
       "    <tr>\n",
       "      <th>diaBP</th>\n",
       "      <td>3656.0</td>\n",
       "      <td>82.912062</td>\n",
       "      <td>11.974825</td>\n",
       "      <td>48.00</td>\n",
       "      <td>75.00</td>\n",
       "      <td>82.00</td>\n",
       "      <td>90.00</td>\n",
       "      <td>142.5</td>\n",
       "    </tr>\n",
       "    <tr>\n",
       "      <th>BMI</th>\n",
       "      <td>3656.0</td>\n",
       "      <td>25.784185</td>\n",
       "      <td>4.065913</td>\n",
       "      <td>15.54</td>\n",
       "      <td>23.08</td>\n",
       "      <td>25.38</td>\n",
       "      <td>28.04</td>\n",
       "      <td>56.8</td>\n",
       "    </tr>\n",
       "    <tr>\n",
       "      <th>heartRate</th>\n",
       "      <td>3656.0</td>\n",
       "      <td>75.730580</td>\n",
       "      <td>11.982952</td>\n",
       "      <td>44.00</td>\n",
       "      <td>68.00</td>\n",
       "      <td>75.00</td>\n",
       "      <td>82.00</td>\n",
       "      <td>143.0</td>\n",
       "    </tr>\n",
       "    <tr>\n",
       "      <th>glucose</th>\n",
       "      <td>3656.0</td>\n",
       "      <td>81.856127</td>\n",
       "      <td>23.910128</td>\n",
       "      <td>40.00</td>\n",
       "      <td>71.00</td>\n",
       "      <td>78.00</td>\n",
       "      <td>87.00</td>\n",
       "      <td>394.0</td>\n",
       "    </tr>\n",
       "    <tr>\n",
       "      <th>TenYearCHD</th>\n",
       "      <td>3656.0</td>\n",
       "      <td>0.152352</td>\n",
       "      <td>0.359411</td>\n",
       "      <td>0.00</td>\n",
       "      <td>0.00</td>\n",
       "      <td>0.00</td>\n",
       "      <td>0.00</td>\n",
       "      <td>1.0</td>\n",
       "    </tr>\n",
       "  </tbody>\n",
       "</table>\n",
       "</div>"
      ],
      "text/plain": [
       "                  count        mean        std     min     25%     50%  \\\n",
       "male             3656.0    0.443654   0.496883    0.00    0.00    0.00   \n",
       "age              3656.0   49.557440   8.561133   32.00   42.00   49.00   \n",
       "education        3656.0    1.979759   1.022657    1.00    1.00    2.00   \n",
       "currentSmoker    3656.0    0.489059   0.499949    0.00    0.00    0.00   \n",
       "cigsPerDay       3656.0    9.022155  11.918869    0.00    0.00    0.00   \n",
       "BPMeds           3656.0    0.030361   0.171602    0.00    0.00    0.00   \n",
       "prevalentStroke  3656.0    0.005744   0.075581    0.00    0.00    0.00   \n",
       "prevalentHyp     3656.0    0.311543   0.463187    0.00    0.00    0.00   \n",
       "diabetes         3656.0    0.027079   0.162335    0.00    0.00    0.00   \n",
       "totChol          3656.0  236.873085  44.096223  113.00  206.00  234.00   \n",
       "sysBP            3656.0  132.368025  22.092444   83.50  117.00  128.00   \n",
       "diaBP            3656.0   82.912062  11.974825   48.00   75.00   82.00   \n",
       "BMI              3656.0   25.784185   4.065913   15.54   23.08   25.38   \n",
       "heartRate        3656.0   75.730580  11.982952   44.00   68.00   75.00   \n",
       "glucose          3656.0   81.856127  23.910128   40.00   71.00   78.00   \n",
       "TenYearCHD       3656.0    0.152352   0.359411    0.00    0.00    0.00   \n",
       "\n",
       "                    75%    max  \n",
       "male               1.00    1.0  \n",
       "age               56.00   70.0  \n",
       "education          3.00    4.0  \n",
       "currentSmoker      1.00    1.0  \n",
       "cigsPerDay        20.00   70.0  \n",
       "BPMeds             0.00    1.0  \n",
       "prevalentStroke    0.00    1.0  \n",
       "prevalentHyp       1.00    1.0  \n",
       "diabetes           0.00    1.0  \n",
       "totChol          263.25  600.0  \n",
       "sysBP            144.00  295.0  \n",
       "diaBP             90.00  142.5  \n",
       "BMI               28.04   56.8  \n",
       "heartRate         82.00  143.0  \n",
       "glucose           87.00  394.0  \n",
       "TenYearCHD         0.00    1.0  "
      ]
     },
     "execution_count": 9,
     "metadata": {},
     "output_type": "execute_result"
    }
   ],
   "source": [
    "new_df.describe().T # describe the data by the minimum, maximum, the number of it, mean, standard deviation, etc..."
   ]
  },
  {
   "cell_type": "code",
   "execution_count": 10,
   "id": "53009646-9432-4188-8c0b-0f46a825de26",
   "metadata": {},
   "outputs": [
    {
     "name": "stdout",
     "output_type": "stream",
     "text": [
      "<class 'pandas.core.frame.DataFrame'>\n",
      "Index: 3656 entries, 0 to 4237\n",
      "Data columns (total 16 columns):\n",
      " #   Column           Non-Null Count  Dtype  \n",
      "---  ------           --------------  -----  \n",
      " 0   male             3656 non-null   int64  \n",
      " 1   age              3656 non-null   int64  \n",
      " 2   education        3656 non-null   float64\n",
      " 3   currentSmoker    3656 non-null   int64  \n",
      " 4   cigsPerDay       3656 non-null   float64\n",
      " 5   BPMeds           3656 non-null   float64\n",
      " 6   prevalentStroke  3656 non-null   int64  \n",
      " 7   prevalentHyp     3656 non-null   int64  \n",
      " 8   diabetes         3656 non-null   int64  \n",
      " 9   totChol          3656 non-null   float64\n",
      " 10  sysBP            3656 non-null   float64\n",
      " 11  diaBP            3656 non-null   float64\n",
      " 12  BMI              3656 non-null   float64\n",
      " 13  heartRate        3656 non-null   float64\n",
      " 14  glucose          3656 non-null   float64\n",
      " 15  TenYearCHD       3656 non-null   int64  \n",
      "dtypes: float64(9), int64(7)\n",
      "memory usage: 485.6 KB\n"
     ]
    }
   ],
   "source": [
    "new_df.info() # Gives information about the data (string, integer, float, etc...)"
   ]
  },
  {
   "cell_type": "code",
   "execution_count": 11,
   "id": "9a51a801-ea0c-4e49-bb89-cedd8489ad6a",
   "metadata": {},
   "outputs": [
    {
     "name": "stdout",
     "output_type": "stream",
     "text": [
      "The number of duplicated rows is: 0\n"
     ]
    }
   ],
   "source": [
    "duplicared_rows = new_df[new_df.duplicated()] # Check if there any duplicated rows\n",
    "print(f'The number of duplicated rows is: {duplicared_rows.shape[0]}')"
   ]
  },
  {
   "cell_type": "code",
   "execution_count": 12,
   "id": "294dd830-fd5b-47e0-a968-15b2f72b7af4",
   "metadata": {},
   "outputs": [],
   "source": [
    "X = new_df.iloc[ : , : -1] # from column 1 to column 15 (Features)\n",
    "Y = new_df.iloc[ : , -1] # the last column only (TenYearCHD)"
   ]
  },
  {
   "cell_type": "code",
   "execution_count": 13,
   "id": "00c0d087-97dc-4bf8-9501-f8d97ba28b8c",
   "metadata": {},
   "outputs": [
    {
     "data": {
      "text/html": [
       "<div>\n",
       "<style scoped>\n",
       "    .dataframe tbody tr th:only-of-type {\n",
       "        vertical-align: middle;\n",
       "    }\n",
       "\n",
       "    .dataframe tbody tr th {\n",
       "        vertical-align: top;\n",
       "    }\n",
       "\n",
       "    .dataframe thead th {\n",
       "        text-align: right;\n",
       "    }\n",
       "</style>\n",
       "<table border=\"1\" class=\"dataframe\">\n",
       "  <thead>\n",
       "    <tr style=\"text-align: right;\">\n",
       "      <th></th>\n",
       "      <th>male</th>\n",
       "      <th>age</th>\n",
       "      <th>education</th>\n",
       "      <th>currentSmoker</th>\n",
       "      <th>cigsPerDay</th>\n",
       "      <th>BPMeds</th>\n",
       "      <th>prevalentStroke</th>\n",
       "      <th>prevalentHyp</th>\n",
       "      <th>diabetes</th>\n",
       "      <th>totChol</th>\n",
       "      <th>sysBP</th>\n",
       "      <th>diaBP</th>\n",
       "      <th>BMI</th>\n",
       "      <th>heartRate</th>\n",
       "      <th>glucose</th>\n",
       "    </tr>\n",
       "  </thead>\n",
       "  <tbody>\n",
       "    <tr>\n",
       "      <th>0</th>\n",
       "      <td>1</td>\n",
       "      <td>39</td>\n",
       "      <td>4.0</td>\n",
       "      <td>0</td>\n",
       "      <td>0.0</td>\n",
       "      <td>0.0</td>\n",
       "      <td>0</td>\n",
       "      <td>0</td>\n",
       "      <td>0</td>\n",
       "      <td>195.0</td>\n",
       "      <td>106.0</td>\n",
       "      <td>70.0</td>\n",
       "      <td>26.97</td>\n",
       "      <td>80.0</td>\n",
       "      <td>77.0</td>\n",
       "    </tr>\n",
       "    <tr>\n",
       "      <th>1</th>\n",
       "      <td>0</td>\n",
       "      <td>46</td>\n",
       "      <td>2.0</td>\n",
       "      <td>0</td>\n",
       "      <td>0.0</td>\n",
       "      <td>0.0</td>\n",
       "      <td>0</td>\n",
       "      <td>0</td>\n",
       "      <td>0</td>\n",
       "      <td>250.0</td>\n",
       "      <td>121.0</td>\n",
       "      <td>81.0</td>\n",
       "      <td>28.73</td>\n",
       "      <td>95.0</td>\n",
       "      <td>76.0</td>\n",
       "    </tr>\n",
       "    <tr>\n",
       "      <th>2</th>\n",
       "      <td>1</td>\n",
       "      <td>48</td>\n",
       "      <td>1.0</td>\n",
       "      <td>1</td>\n",
       "      <td>20.0</td>\n",
       "      <td>0.0</td>\n",
       "      <td>0</td>\n",
       "      <td>0</td>\n",
       "      <td>0</td>\n",
       "      <td>245.0</td>\n",
       "      <td>127.5</td>\n",
       "      <td>80.0</td>\n",
       "      <td>25.34</td>\n",
       "      <td>75.0</td>\n",
       "      <td>70.0</td>\n",
       "    </tr>\n",
       "    <tr>\n",
       "      <th>3</th>\n",
       "      <td>0</td>\n",
       "      <td>61</td>\n",
       "      <td>3.0</td>\n",
       "      <td>1</td>\n",
       "      <td>30.0</td>\n",
       "      <td>0.0</td>\n",
       "      <td>0</td>\n",
       "      <td>1</td>\n",
       "      <td>0</td>\n",
       "      <td>225.0</td>\n",
       "      <td>150.0</td>\n",
       "      <td>95.0</td>\n",
       "      <td>28.58</td>\n",
       "      <td>65.0</td>\n",
       "      <td>103.0</td>\n",
       "    </tr>\n",
       "    <tr>\n",
       "      <th>4</th>\n",
       "      <td>0</td>\n",
       "      <td>46</td>\n",
       "      <td>3.0</td>\n",
       "      <td>1</td>\n",
       "      <td>23.0</td>\n",
       "      <td>0.0</td>\n",
       "      <td>0</td>\n",
       "      <td>0</td>\n",
       "      <td>0</td>\n",
       "      <td>285.0</td>\n",
       "      <td>130.0</td>\n",
       "      <td>84.0</td>\n",
       "      <td>23.10</td>\n",
       "      <td>85.0</td>\n",
       "      <td>85.0</td>\n",
       "    </tr>\n",
       "    <tr>\n",
       "      <th>5</th>\n",
       "      <td>0</td>\n",
       "      <td>43</td>\n",
       "      <td>2.0</td>\n",
       "      <td>0</td>\n",
       "      <td>0.0</td>\n",
       "      <td>0.0</td>\n",
       "      <td>0</td>\n",
       "      <td>1</td>\n",
       "      <td>0</td>\n",
       "      <td>228.0</td>\n",
       "      <td>180.0</td>\n",
       "      <td>110.0</td>\n",
       "      <td>30.30</td>\n",
       "      <td>77.0</td>\n",
       "      <td>99.0</td>\n",
       "    </tr>\n",
       "    <tr>\n",
       "      <th>6</th>\n",
       "      <td>0</td>\n",
       "      <td>63</td>\n",
       "      <td>1.0</td>\n",
       "      <td>0</td>\n",
       "      <td>0.0</td>\n",
       "      <td>0.0</td>\n",
       "      <td>0</td>\n",
       "      <td>0</td>\n",
       "      <td>0</td>\n",
       "      <td>205.0</td>\n",
       "      <td>138.0</td>\n",
       "      <td>71.0</td>\n",
       "      <td>33.11</td>\n",
       "      <td>60.0</td>\n",
       "      <td>85.0</td>\n",
       "    </tr>\n",
       "    <tr>\n",
       "      <th>7</th>\n",
       "      <td>0</td>\n",
       "      <td>45</td>\n",
       "      <td>2.0</td>\n",
       "      <td>1</td>\n",
       "      <td>20.0</td>\n",
       "      <td>0.0</td>\n",
       "      <td>0</td>\n",
       "      <td>0</td>\n",
       "      <td>0</td>\n",
       "      <td>313.0</td>\n",
       "      <td>100.0</td>\n",
       "      <td>71.0</td>\n",
       "      <td>21.68</td>\n",
       "      <td>79.0</td>\n",
       "      <td>78.0</td>\n",
       "    </tr>\n",
       "    <tr>\n",
       "      <th>8</th>\n",
       "      <td>1</td>\n",
       "      <td>52</td>\n",
       "      <td>1.0</td>\n",
       "      <td>0</td>\n",
       "      <td>0.0</td>\n",
       "      <td>0.0</td>\n",
       "      <td>0</td>\n",
       "      <td>1</td>\n",
       "      <td>0</td>\n",
       "      <td>260.0</td>\n",
       "      <td>141.5</td>\n",
       "      <td>89.0</td>\n",
       "      <td>26.36</td>\n",
       "      <td>76.0</td>\n",
       "      <td>79.0</td>\n",
       "    </tr>\n",
       "    <tr>\n",
       "      <th>9</th>\n",
       "      <td>1</td>\n",
       "      <td>43</td>\n",
       "      <td>1.0</td>\n",
       "      <td>1</td>\n",
       "      <td>30.0</td>\n",
       "      <td>0.0</td>\n",
       "      <td>0</td>\n",
       "      <td>1</td>\n",
       "      <td>0</td>\n",
       "      <td>225.0</td>\n",
       "      <td>162.0</td>\n",
       "      <td>107.0</td>\n",
       "      <td>23.61</td>\n",
       "      <td>93.0</td>\n",
       "      <td>88.0</td>\n",
       "    </tr>\n",
       "  </tbody>\n",
       "</table>\n",
       "</div>"
      ],
      "text/plain": [
       "   male  age  education  currentSmoker  cigsPerDay  BPMeds  prevalentStroke  \\\n",
       "0     1   39        4.0              0         0.0     0.0                0   \n",
       "1     0   46        2.0              0         0.0     0.0                0   \n",
       "2     1   48        1.0              1        20.0     0.0                0   \n",
       "3     0   61        3.0              1        30.0     0.0                0   \n",
       "4     0   46        3.0              1        23.0     0.0                0   \n",
       "5     0   43        2.0              0         0.0     0.0                0   \n",
       "6     0   63        1.0              0         0.0     0.0                0   \n",
       "7     0   45        2.0              1        20.0     0.0                0   \n",
       "8     1   52        1.0              0         0.0     0.0                0   \n",
       "9     1   43        1.0              1        30.0     0.0                0   \n",
       "\n",
       "   prevalentHyp  diabetes  totChol  sysBP  diaBP    BMI  heartRate  glucose  \n",
       "0             0         0    195.0  106.0   70.0  26.97       80.0     77.0  \n",
       "1             0         0    250.0  121.0   81.0  28.73       95.0     76.0  \n",
       "2             0         0    245.0  127.5   80.0  25.34       75.0     70.0  \n",
       "3             1         0    225.0  150.0   95.0  28.58       65.0    103.0  \n",
       "4             0         0    285.0  130.0   84.0  23.10       85.0     85.0  \n",
       "5             1         0    228.0  180.0  110.0  30.30       77.0     99.0  \n",
       "6             0         0    205.0  138.0   71.0  33.11       60.0     85.0  \n",
       "7             0         0    313.0  100.0   71.0  21.68       79.0     78.0  \n",
       "8             1         0    260.0  141.5   89.0  26.36       76.0     79.0  \n",
       "9             1         0    225.0  162.0  107.0  23.61       93.0     88.0  "
      ]
     },
     "execution_count": 13,
     "metadata": {},
     "output_type": "execute_result"
    }
   ],
   "source": [
    "X.head(10) # show the first ten rows from the data"
   ]
  },
  {
   "cell_type": "code",
   "execution_count": 14,
   "id": "e006b784-842a-4928-beaf-5839f9fe27de",
   "metadata": {},
   "outputs": [
    {
     "data": {
      "text/plain": [
       "0    0\n",
       "1    0\n",
       "2    0\n",
       "3    1\n",
       "4    0\n",
       "5    0\n",
       "6    1\n",
       "7    0\n",
       "8    0\n",
       "9    0\n",
       "Name: TenYearCHD, dtype: int64"
      ]
     },
     "execution_count": 14,
     "metadata": {},
     "output_type": "execute_result"
    }
   ],
   "source": [
    "Y.head(10) # show the first ten rows from the data"
   ]
  },
  {
   "cell_type": "markdown",
   "id": "bc8be0e2-e4c5-4096-9955-13651ed7ec4b",
   "metadata": {},
   "source": [
    "# Data Analysis"
   ]
  },
  {
   "cell_type": "code",
   "execution_count": 15,
   "id": "858d1bfd-8076-4e19-9320-3be0bd726e2d",
   "metadata": {},
   "outputs": [
    {
     "data": {
      "text/plain": [
       "TenYearCHD\n",
       "0    3099\n",
       "1     557\n",
       "Name: count, dtype: int64"
      ]
     },
     "execution_count": 15,
     "metadata": {},
     "output_type": "execute_result"
    }
   ],
   "source": [
    "TenYearCHD_Data = new_df['TenYearCHD'].value_counts()\n",
    "\n",
    "TenYearCHD_Data"
   ]
  },
  {
   "cell_type": "code",
   "execution_count": 16,
   "id": "2920be1f-69bd-4220-bcc5-a8b15b39bee9",
   "metadata": {},
   "outputs": [
    {
     "data": {
      "text/plain": [
       "<Axes: xlabel='TenYearCHD', ylabel='count'>"
      ]
     },
     "execution_count": 16,
     "metadata": {},
     "output_type": "execute_result"
    },
    {
     "data": {
      "image/png": "[encoded data removed]",
      "text/plain": [
       "<Figure size 640x480 with 1 Axes>"
      ]
     },
     "metadata": {},
     "output_type": "display_data"
    }
   ],
   "source": [
    "sns.countplot(x = 'TenYearCHD', palette = 'magma', data = new_df)"
   ]
  },
  {
   "cell_type": "code",
   "execution_count": 17,
   "id": "7ab34582-6da8-4c37-a0aa-7e0a72975db9",
   "metadata": {},
   "outputs": [
    {
     "data": {
      "text/plain": [
       "Text(0.5, 1.0, 'Age:')"
      ]
     },
     "execution_count": 17,
     "metadata": {},
     "output_type": "execute_result"
    },
    {
     "data": {
      "image/png": "[encoded data removed]",
      "text/plain": [
       "<Figure size 1500x1500 with 1 Axes>"
      ]
     },
     "metadata": {},
     "output_type": "display_data"
    }
   ],
   "source": [
    "plt.subplots(figsize = (15, 15))\n",
    "sns.countplot(x = 'age', palette = 'icefire', data = new_df)\n",
    "plt.title('Age:')"
   ]
  },
  {
   "cell_type": "code",
   "execution_count": 18,
   "id": "b03657e8-f267-4384-82b1-656ee56e3417",
   "metadata": {},
   "outputs": [
    {
     "data": {
      "text/plain": [
       "male\n",
       "0    2034\n",
       "1    1622\n",
       "Name: count, dtype: int64"
      ]
     },
     "execution_count": 18,
     "metadata": {},
     "output_type": "execute_result"
    }
   ],
   "source": [
    "Male_Data = new_df['male'].value_counts()\n",
    "\n",
    "Male_Data"
   ]
  },
  {
   "cell_type": "code",
   "execution_count": 19,
   "id": "2d245761-683c-4a81-964a-0f9c66041533",
   "metadata": {},
   "outputs": [
    {
     "data": {
      "text/plain": [
       "education\n",
       "1.0    1526\n",
       "2.0    1101\n",
       "3.0     606\n",
       "4.0     423\n",
       "Name: count, dtype: int64"
      ]
     },
     "execution_count": 19,
     "metadata": {},
     "output_type": "execute_result"
    }
   ],
   "source": [
    "Education_Data = new_df['education'].value_counts()\n",
    "\n",
    "Education_Data"
   ]
  },
  {
   "cell_type": "code",
   "execution_count": 20,
   "id": "270570b8-ef2a-49ef-a880-0e42d57aca7d",
   "metadata": {},
   "outputs": [
    {
     "data": {
      "text/plain": [
       "currentSmoker\n",
       "0    1868\n",
       "1    1788\n",
       "Name: count, dtype: int64"
      ]
     },
     "execution_count": 20,
     "metadata": {},
     "output_type": "execute_result"
    }
   ],
   "source": [
    "CurrentSmoker_Data = new_df['currentSmoker'].value_counts()\n",
    "\n",
    "CurrentSmoker_Data"
   ]
  },
  {
   "cell_type": "code",
   "execution_count": 21,
   "id": "daed5fa2-498f-4eed-8d06-c308b1728373",
   "metadata": {},
   "outputs": [
    {
     "data": {
      "text/plain": [
       "diabetes\n",
       "0    3557\n",
       "1      99\n",
       "Name: count, dtype: int64"
      ]
     },
     "execution_count": 21,
     "metadata": {},
     "output_type": "execute_result"
    }
   ],
   "source": [
    "Diabetes_Data = new_df['diabetes'].value_counts()\n",
    "\n",
    "Diabetes_Data"
   ]
  },
  {
   "cell_type": "code",
   "execution_count": 22,
   "id": "d5e5941b-ae79-4529-abd6-fb406b443cdf",
   "metadata": {},
   "outputs": [
    {
     "data": {
      "text/plain": [
       "Text(0.5, 1.0, 'Does the patient has a diabetes?')"
      ]
     },
     "execution_count": 22,
     "metadata": {},
     "output_type": "execute_result"
    },
    {
     "data": {
      "image/png": "[encoded data removed]",
      "text/plain": [
       "<Figure size 1500x1100 with 4 Axes>"
      ]
     },
     "metadata": {},
     "output_type": "display_data"
    }
   ],
   "source": [
    "plt.figure(figsize = (15, 11))\n",
    "\n",
    "plt.subplot(2, 2, 1)\n",
    "Male_Data.plot(kind = 'pie', ylabel = '', startangle = 90, autopct = '%1.1f%%', colors = ['skyblue', 'darksalmon'],\n",
    "              labels = ['No', 'Yes'], explode = (0, 0.1), wedgeprops = {'edgecolor' : 'black', 'linewidth' : 1}, shadow = True)\n",
    "plt.legend(title = 'Male:', loc = 'lower right')\n",
    "plt.title('Male Or Not')\n",
    "\n",
    "plt.subplot(2, 2, 2)\n",
    "sns.countplot(x = 'education', palette = 'afmhot', data = new_df)\n",
    "\n",
    "plt.subplot(2, 2, 3)\n",
    "sns.countplot(x = 'currentSmoker', palette = 'viridis', data = new_df)\n",
    "\n",
    "plt.subplot(2, 2, 4)\n",
    "Diabetes_Data.plot(kind = 'pie', ylabel = '', startangle = 345, autopct = '%1.1f%%', colors = ['rosybrown', 'turquoise'],\n",
    "                  labels = ['No', 'Yes'], explode = (0, 0.5), wedgeprops = {'edgecolor' : 'black', 'linewidth' : 1}, shadow = False)\n",
    "plt.legend(title = 'Diabetes:', loc = 'lower right')\n",
    "plt.title('Does the patient has a diabetes?')"
   ]
  },
  {
   "cell_type": "markdown",
   "id": "c984778e-06d8-4e29-bd73-23c0d0b1017d",
   "metadata": {},
   "source": [
    "# Data Scaling"
   ]
  },
  {
   "cell_type": "code",
   "execution_count": 23,
   "id": "488fd559-3e41-4169-83eb-2466309ed454",
   "metadata": {},
   "outputs": [],
   "source": [
    "scaler = StandardScaler()\n",
    "\n",
    "X = scaler.fit_transform(X)"
   ]
  },
  {
   "cell_type": "code",
   "execution_count": 24,
   "id": "14ffdfd3-dd68-4305-b707-a7354f4e9c23",
   "metadata": {},
   "outputs": [
    {
     "data": {
      "text/plain": [
       "array([-0.8929969 , -0.41559058,  0.01979497, -0.97835241, -0.75706763,\n",
       "       -0.17695114, -0.07600767, -0.67269818, -0.16683058,  0.29772868,\n",
       "       -0.5146366 , -0.15969535,  0.7246142 ,  1.60828949, -0.24495595])"
      ]
     },
     "execution_count": 24,
     "metadata": {},
     "output_type": "execute_result"
    }
   ],
   "source": [
    "X[1]"
   ]
  },
  {
   "cell_type": "markdown",
   "id": "155cc2b0-b9a1-4fec-a8e7-faeffd78b925",
   "metadata": {},
   "source": [
    "# Data Split"
   ]
  },
  {
   "cell_type": "code",
   "execution_count": 25,
   "id": "d30f33c7-3760-4d01-a1b7-ed820a140e95",
   "metadata": {},
   "outputs": [],
   "source": [
    "X_train, X_test, Y_train, Y_test = train_test_split(X, Y, test_size = 0.3, random_state = 30, shuffle = True)"
   ]
  },
  {
   "cell_type": "code",
   "execution_count": 26,
   "id": "2d187924-0976-40d9-84da-c9c756310dcf",
   "metadata": {},
   "outputs": [
    {
     "data": {
      "text/plain": [
       "array([[ 1.11982472,  0.75263883, -0.95818334, ...,  0.61884242,\n",
       "        -1.06253627,  0.13150507],\n",
       "       [-0.8929969 , -1.23335117,  1.97575158, ..., -1.29734866,\n",
       "         1.6917528 , -0.66324597],\n",
       "       [-0.8929969 ,  0.16852412,  0.01979497, ...,  0.60654338,\n",
       "         0.35633992, -0.28678495],\n",
       "       ...,\n",
       "       [ 1.11982472, -0.1819447 ,  0.01979497, ...,  0.24741129,\n",
       "        -0.06097661, -0.16129794],\n",
       "       [-0.8929969 ,  0.16852412,  0.01979497, ..., -1.14238071,\n",
       "         0.35633992, -0.11946894],\n",
       "       [-0.8929969 , -0.99970529,  1.97575158, ..., -0.86934192,\n",
       "         0.77365644, -0.11946894]])"
      ]
     },
     "execution_count": 26,
     "metadata": {},
     "output_type": "execute_result"
    }
   ],
   "source": [
    "X_train"
   ]
  },
  {
   "cell_type": "code",
   "execution_count": 27,
   "id": "638c9a3e-122a-4cb2-a3fd-5f8350ecdffb",
   "metadata": {},
   "outputs": [
    {
     "data": {
      "text/plain": [
       "768     0\n",
       "283     0\n",
       "2350    0\n",
       "3926    0\n",
       "562     0\n",
       "       ..\n",
       "1345    1\n",
       "579     1\n",
       "3476    0\n",
       "489     0\n",
       "2141    0\n",
       "Name: TenYearCHD, Length: 2559, dtype: int64"
      ]
     },
     "execution_count": 27,
     "metadata": {},
     "output_type": "execute_result"
    }
   ],
   "source": [
    "Y_train"
   ]
  },
  {
   "cell_type": "code",
   "execution_count": 28,
   "id": "4f54fb9c-a265-4687-86bf-b83c1f7f86d0",
   "metadata": {},
   "outputs": [
    {
     "name": "stdout",
     "output_type": "stream",
     "text": [
      "X_train shape: (2559, 15)\n",
      "X_test shape: (1097, 15)\n",
      "Y_train shape: (2559,)\n",
      "Y_test shape: (1097,)\n"
     ]
    }
   ],
   "source": [
    "print('X_train shape:', X_train.shape)\n",
    "print('X_test shape:', X_test.shape)\n",
    "print('Y_train shape:', Y_train.shape)\n",
    "print('Y_test shape:', Y_test.shape)"
   ]
  },
  {
   "cell_type": "markdown",
   "id": "c6337c29-3d04-4bf6-9bc9-a821e8f9b871",
   "metadata": {},
   "source": [
    "# Use Decision Tree"
   ]
  },
  {
   "cell_type": "code",
   "execution_count": 29,
   "id": "51e4bd2a-3113-41f5-ae8f-67d2f12ae6f7",
   "metadata": {},
   "outputs": [],
   "source": [
    "tree_model = DecisionTreeClassifier()"
   ]
  },
  {
   "cell_type": "code",
   "execution_count": 30,
   "id": "cf6a935d-717e-4f79-b4e1-ab5e55db2939",
   "metadata": {},
   "outputs": [],
   "source": [
    "parameter = {\n",
    "    'criterion' : ['gini', 'entropy', 'log_loss'],\n",
    "    'max_depth' : [1, 2, 3, 4, 5]\n",
    "}"
   ]
  },
  {
   "cell_type": "code",
   "execution_count": 31,
   "id": "97993de3-7313-4954-8fb0-9f102b729c27",
   "metadata": {},
   "outputs": [],
   "source": [
    "from sklearn.model_selection import GridSearchCV"
   ]
  },
  {
   "cell_type": "code",
   "execution_count": 32,
   "id": "04d87c3e-cce4-47e8-adf2-a698263e4ba7",
   "metadata": {},
   "outputs": [],
   "source": [
    "cv = GridSearchCV(tree_model, parameter, scoring = 'accuracy', cv = 5)"
   ]
  },
  {
   "cell_type": "code",
   "execution_count": 33,
   "id": "abcf3545-b44c-4aba-b30e-9bae378e4ce0",
   "metadata": {},
   "outputs": [
    {
     "data": {
      "text/html": [
       "<style>#sk-container-id-1 {color: black;background-color: white;}#sk-container-id-1 pre{padding: 0;}#sk-container-id-1 div.sk-toggleable {background-color: white;}#sk-container-id-1 label.sk-toggleable__label {cursor: pointer;display: block;width: 100%;margin-bottom: 0;padding: 0.3em;box-sizing: border-box;text-align: center;}#sk-container-id-1 label.sk-toggleable__label-arrow:before {content: \"▸\";float: left;margin-right: 0.25em;color: #696969;}#sk-container-id-1 label.sk-toggleable__label-arrow:hover:before {color: black;}#sk-container-id-1 div.sk-estimator:hover label.sk-toggleable__label-arrow:before {color: black;}#sk-container-id-1 div.sk-toggleable__content {max-height: 0;max-width: 0;overflow: hidden;text-align: left;background-color: #f0f8ff;}#sk-container-id-1 div.sk-toggleable__content pre {margin: 0.2em;color: black;border-radius: 0.25em;background-color: #f0f8ff;}#sk-container-id-1 input.sk-toggleable__control:checked~div.sk-toggleable__content {max-height: 200px;max-width: 100%;overflow: auto;}#sk-container-id-1 input.sk-toggleable__control:checked~label.sk-toggleable__label-arrow:before {content: \"▾\";}#sk-container-id-1 div.sk-estimator input.sk-toggleable__control:checked~label.sk-toggleable__label {background-color: #d4ebff;}#sk-container-id-1 div.sk-label input.sk-toggleable__control:checked~label.sk-toggleable__label {background-color: #d4ebff;}#sk-container-id-1 input.sk-hidden--visually {border: 0;clip: rect(1px 1px 1px 1px);clip: rect(1px, 1px, 1px, 1px);height: 1px;margin: -1px;overflow: hidden;padding: 0;position: absolute;width: 1px;}#sk-container-id-1 div.sk-estimator {font-family: monospace;background-color: #f0f8ff;border: 1px dotted black;border-radius: 0.25em;box-sizing: border-box;margin-bottom: 0.5em;}#sk-container-id-1 div.sk-estimator:hover {background-color: #d4ebff;}#sk-container-id-1 div.sk-parallel-item::after {content: \"\";width: 100%;border-bottom: 1px solid gray;flex-grow: 1;}#sk-container-id-1 div.sk-label:hover label.sk-toggleable__label {background-color: #d4ebff;}#sk-container-id-1 div.sk-serial::before {content: \"\";position: absolute;border-left: 1px solid gray;box-sizing: border-box;top: 0;bottom: 0;left: 50%;z-index: 0;}#sk-container-id-1 div.sk-serial {display: flex;flex-direction: column;align-items: center;background-color: white;padding-right: 0.2em;padding-left: 0.2em;position: relative;}#sk-container-id-1 div.sk-item {position: relative;z-index: 1;}#sk-container-id-1 div.sk-parallel {display: flex;align-items: stretch;justify-content: center;background-color: white;position: relative;}#sk-container-id-1 div.sk-item::before, #sk-container-id-1 div.sk-parallel-item::before {content: \"\";position: absolute;border-left: 1px solid gray;box-sizing: border-box;top: 0;bottom: 0;left: 50%;z-index: -1;}#sk-container-id-1 div.sk-parallel-item {display: flex;flex-direction: column;z-index: 1;position: relative;background-color: white;}#sk-container-id-1 div.sk-parallel-item:first-child::after {align-self: flex-end;width: 50%;}#sk-container-id-1 div.sk-parallel-item:last-child::after {align-self: flex-start;width: 50%;}#sk-container-id-1 div.sk-parallel-item:only-child::after {width: 0;}#sk-container-id-1 div.sk-dashed-wrapped {border: 1px dashed gray;margin: 0 0.4em 0.5em 0.4em;box-sizing: border-box;padding-bottom: 0.4em;background-color: white;}#sk-container-id-1 div.sk-label label {font-family: monospace;font-weight: bold;display: inline-block;line-height: 1.2em;}#sk-container-id-1 div.sk-label-container {text-align: center;}#sk-container-id-1 div.sk-container {/* jupyter's `normalize.less` sets `[hidden] { display: none; }` but bootstrap.min.css set `[hidden] { display: none !important; }` so we also need the `!important` here to be able to override the default hidden behavior on the sphinx rendered scikit-learn.org. See: https://github.com/scikit-learn/scikit-learn/issues/21755 */display: inline-block !important;position: relative;}#sk-container-id-1 div.sk-text-repr-fallback {display: none;}</style><div id=\"sk-container-id-1\" class=\"sk-top-container\"><div class=\"sk-text-repr-fallback\"><pre>GridSearchCV(cv=5, estimator=DecisionTreeClassifier(),\n",
       "             param_grid={&#x27;criterion&#x27;: [&#x27;gini&#x27;, &#x27;entropy&#x27;, &#x27;log_loss&#x27;],\n",
       "                         &#x27;max_depth&#x27;: [1, 2, 3, 4, 5]},\n",
       "             scoring=&#x27;accuracy&#x27;)</pre><b>In a Jupyter environment, please rerun this cell to show the HTML representation or trust the notebook. <br />On GitHub, the HTML representation is unable to render, please try loading this page with nbviewer.org.</b></div><div class=\"sk-container\" hidden><div class=\"sk-item sk-dashed-wrapped\"><div class=\"sk-label-container\"><div class=\"sk-label sk-toggleable\"><input class=\"sk-toggleable__control sk-hidden--visually\" id=\"sk-estimator-id-1\" type=\"checkbox\" ><label for=\"sk-estimator-id-1\" class=\"sk-toggleable__label sk-toggleable__label-arrow\">GridSearchCV</label><div class=\"sk-toggleable__content\"><pre>GridSearchCV(cv=5, estimator=DecisionTreeClassifier(),\n",
       "             param_grid={&#x27;criterion&#x27;: [&#x27;gini&#x27;, &#x27;entropy&#x27;, &#x27;log_loss&#x27;],\n",
       "                         &#x27;max_depth&#x27;: [1, 2, 3, 4, 5]},\n",
       "             scoring=&#x27;accuracy&#x27;)</pre></div></div></div><div class=\"sk-parallel\"><div class=\"sk-parallel-item\"><div class=\"sk-item\"><div class=\"sk-label-container\"><div class=\"sk-label sk-toggleable\"><input class=\"sk-toggleable__control sk-hidden--visually\" id=\"sk-estimator-id-2\" type=\"checkbox\" ><label for=\"sk-estimator-id-2\" class=\"sk-toggleable__label sk-toggleable__label-arrow\">estimator: DecisionTreeClassifier</label><div class=\"sk-toggleable__content\"><pre>DecisionTreeClassifier()</pre></div></div></div><div class=\"sk-serial\"><div class=\"sk-item\"><div class=\"sk-estimator sk-toggleable\"><input class=\"sk-toggleable__control sk-hidden--visually\" id=\"sk-estimator-id-3\" type=\"checkbox\" ><label for=\"sk-estimator-id-3\" class=\"sk-toggleable__label sk-toggleable__label-arrow\">DecisionTreeClassifier</label><div class=\"sk-toggleable__content\"><pre>DecisionTreeClassifier()</pre></div></div></div></div></div></div></div></div></div></div>"
      ],
      "text/plain": [
       "GridSearchCV(cv=5, estimator=DecisionTreeClassifier(),\n",
       "             param_grid={'criterion': ['gini', 'entropy', 'log_loss'],\n",
       "                         'max_depth': [1, 2, 3, 4, 5]},\n",
       "             scoring='accuracy')"
      ]
     },
     "execution_count": 33,
     "metadata": {},
     "output_type": "execute_result"
    }
   ],
   "source": [
    "cv.fit(X_train, Y_train)"
   ]
  },
  {
   "cell_type": "code",
   "execution_count": 34,
   "id": "56a56328-ba7b-472a-a72a-b23d62c7c153",
   "metadata": {},
   "outputs": [
    {
     "data": {
      "text/plain": [
       "{'criterion': 'gini', 'max_depth': 4}"
      ]
     },
     "execution_count": 34,
     "metadata": {},
     "output_type": "execute_result"
    }
   ],
   "source": [
    "cv.best_params_"
   ]
  },
  {
   "cell_type": "code",
   "execution_count": 35,
   "id": "10402029-b644-4a55-81be-1a61428ea960",
   "metadata": {},
   "outputs": [],
   "source": [
    "Y_predtree = cv.predict(X_test)"
   ]
  },
  {
   "cell_type": "code",
   "execution_count": 36,
   "id": "293c3dae-9814-4ac6-a6ae-01e0288a76f9",
   "metadata": {},
   "outputs": [
    {
     "name": "stdout",
     "output_type": "stream",
     "text": [
      "Train accuracy: 86.0\n",
      "Test accuracy: 85.0\n"
     ]
    }
   ],
   "source": [
    "print(f'Train accuracy: {round(accuracy_score(Y_train, cv.predict(X_train)), 2) * 100}')\n",
    "\n",
    "print(f'Test accuracy: {round(accuracy_score(Y_test, cv.predict(X_test)), 2) * 100}')"
   ]
  },
  {
   "cell_type": "markdown",
   "id": "57303e9a-e8d1-4858-9114-9b0ffacb9196",
   "metadata": {},
   "source": [
    "# Thank You"
   ]
  },
  {
   "cell_type": "markdown",
   "id": "7abaf291-a354-42d9-bb68-650528288901",
   "metadata": {},
   "source": [
    "# Eng. Abdulrhman Osama"
   ]
  }
 ],
 "metadata": {
  "kernelspec": {
   "display_name": "Python 3 (ipykernel)",
   "language": "python",
   "name": "python3"
  },
  "language_info": {
   "codemirror_mode": {
    "name": "ipython",
    "version": 3
   },
   "file_extension": ".py",
   "mimetype": "text/x-python",
   "name": "python",
   "nbconvert_exporter": "python",
   "pygments_lexer": "ipython3",
   "version": "3.11.7"
  }
 },
 "nbformat": 4,
 "nbformat_minor": 5
}
